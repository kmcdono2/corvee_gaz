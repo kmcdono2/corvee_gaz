{
 "cells": [
  {
   "cell_type": "markdown",
   "metadata": {},
   "source": [
    "### This notebook assumes that your working directory is the Breton_corvée folder. Currently takes ogee from google drive instad of file.\n"
   ]
  },
  {
   "cell_type": "markdown",
   "metadata": {},
   "source": [
    "# SECTION 1: Dataset overlap"
   ]
  },
  {
   "cell_type": "code",
   "execution_count": null,
   "metadata": {},
   "outputs": [],
   "source": [
    "## install required packages\n",
    "if (!require(\"pacman\")) install.packages(\"pacman\")\n",
    "\n",
    "# # Needed to install sf on Mac, currently unused.\n",
    "# if(Sys.info()[\"sysname\"] == 'Darwin'){ #if on osx, install udunits - required to install units\n",
    "#     system(\"brew install udunits\")\n",
    "# } \n",
    "\n",
    "pacman::p_load(raster, sp, rgeos, geosphere, rgdal, geojsonio, ggplot2, readr, tidyr, devtools, googledrive, \n",
    "               venneuler, rapportools, measurements)\n",
    "# pacman::p_load(sf)\n",
    "devtools::install_github(\"tidyverse/googlesheets4\")\n",
    "library(googlesheets4)"
   ]
  },
  {
   "cell_type": "markdown",
   "metadata": {},
   "source": [
    "## Read map, cassini, and insee from csv files, ogee from google drive\n",
    "### (Potential TODO: pull all files from google drive instead)"
   ]
  },
  {
   "cell_type": "code",
   "execution_count": null,
   "metadata": {},
   "outputs": [],
   "source": [
    "## store the URL you have\n",
    "url = 'https://docs.google.com/spreadsheets/d/19dbb5Os-nZ5SU7V0kP10y9k33xZEF7W1aE1eaUcRyXs'\n",
    "\n",
    "## identify this folder on Drive\n",
    "## may prompt you to authorize\n",
    "ss = drive_get(as_id(url))\n",
    "\n",
    "## may prompt you to authorize\n",
    "ogee = as.data.frame(read_sheet(ss, sheet = \"Ogée 1778\"))\n",
    "names(ogee)[which(names(ogee) == 'INSEE ID')] = 'INSEE.ID' #fix column name\n",
    "ogee2 = ogee #make a backup for use in section 2\n",
    "\n",
    "# ogee = read.csv(\"ogee.csv\") #enable if you instead want ogee from csv, may break other code\n",
    "\n",
    "cassini = read.csv(\"chef_lieux.csv\")\n",
    "names(cassini)[which(names(cassini) == 'insee_l')] = 'INSEE.ID' #fix column name\n",
    "\n",
    "map = read.csv(\"map.csv\")\n",
    "\n",
    "\n",
    "insee = read.csv(\"insee.csv\")\n"
   ]
  },
  {
   "cell_type": "markdown",
   "metadata": {},
   "source": [
    "## Data cleaning"
   ]
  },
  {
   "cell_type": "code",
   "execution_count": null,
   "metadata": {},
   "outputs": [],
   "source": [
    "#replace accented characters\n",
    "rep = 'aeecaeiouueiuAEECAEIOUUEIU'\n",
    "orig = 'àèéçâêîôûùëïüÀÈÉÇÂÊÎÔÛÙËÏÜ'\n",
    "\n",
    "cassini[] <- lapply(cassini, chartr, old=orig, new=rep)\n",
    "ogee[] <- lapply(ogee, chartr, old=orig, new=rep)\n",
    "map[] <- lapply(map, chartr, old=orig, new=rep)\n",
    "cassini[] <- lapply(cassini, gsub, pattern='Œ', replacement='OE')\n",
    "cassini[] <- lapply(cassini, gsub, pattern='œ', replacement='oe')\n",
    "ogee[] <- lapply(ogee, gsub, pattern='Œ', replacement='OE')\n",
    "ogee[] <- lapply(ogee, gsub, pattern='œ', replacement='oe')\n",
    "map[] <- lapply(map, gsub, pattern='Œ', replacement='OE')\n",
    "map[] <- lapply(map, gsub, pattern='œ', replacement='oe')\n"
   ]
  },
  {
   "cell_type": "code",
   "execution_count": null,
   "metadata": {},
   "outputs": [],
   "source": [
    "# Filter out rows by assignment, disabled for now\n",
    "\n",
    "# assignment_vec <- c('Y') # add acceptable statuses here\n",
    "# map <- map[map$assignment %in% assignment_vec, ]\n",
    "# status_vec <- c('KM5', 'MC5', 'SL4', 'SL5', 'EM4', 'EM5', 'EK4', 'EK5') # add acceptable statuses here\n",
    "# ogee <- ogee[ogee$Status %in% status_vec, ]"
   ]
  },
  {
   "cell_type": "code",
   "execution_count": null,
   "metadata": {},
   "outputs": [],
   "source": [
    "# Drop NA's from INSEE, disabled for now\n",
    "# insee <- insee %>% drop_na()"
   ]
  },
  {
   "cell_type": "code",
   "execution_count": null,
   "metadata": {},
   "outputs": [],
   "source": [
    "# Add additional CLEAN_NAME column for comparison when INSEE ID fails or is not available\n",
    "nom <- cassini$label\n",
    "nom <- toupper(nom)\n",
    "cassini$CLEAN_NAME <- nom\n",
    "\n",
    "nom <- ogee$'Ogée 1778 entry'\n",
    "nom <- toupper(nom)\n",
    "ogee$CLEAN_NAME <- nom\n",
    "ogee[which(is.na(ogee[,'CLEAN_NAME'])), 'CLEAN_NAME'] = ogee[which(is.na(ogee[,'CLEAN_NAME'])), 'NOM']\n",
    "\n",
    "nom <- map$normalized.place.name\n",
    "nom <- toupper(nom)\n",
    "map$CLEAN_NAME <- nom\n",
    "\n",
    "nom <- insee$NOM\n",
    "nom <- toupper(nom)\n",
    "insee$CLEAN_NAME <- nom\n",
    "\n",
    "# Filter out unnecessary columns\n",
    "insee_keeps <- c('long', 'lat', 'INSEE.ID', 'CLEAN_NAME')\n",
    "insee <- insee[insee_keeps]\n",
    "map_keeps <- c('INSEE.ID', 'CLEAN_NAME')\n",
    "map <- map[map_keeps]\n",
    "ogee_keeps <- c('INSEE.ID', 'CLEAN_NAME')\n",
    "ogee <- ogee[ogee_keeps]\n",
    "cassini_keeps = c('xlamb', 'ylamb', 'lon', 'lat', 'CLEAN_NAME', 'INSEE.ID')\n",
    "cassini <- cassini[cassini_keeps]\n",
    "names(cassini)[which(names(cassini) == 'lon')] = 'longcassini' #make column names unique\n",
    "names(cassini)[which(names(cassini) == 'lat')] = 'latcassini' #make column names unique\n",
    "\n",
    "#Add origin statuses\n",
    "insee['INSEE_CHECK'] = TRUE\n",
    "map['MAP_CHECK'] = TRUE\n",
    "cassini['CASSINI_CHECK'] = TRUE\n",
    "ogee['OGEE_CHECK'] = TRUE"
   ]
  },
  {
   "cell_type": "markdown",
   "metadata": {},
   "source": [
    "### Limit datasets to Brittany based on Insee ID. Note: this will remove entries with missing or malformed ids,\n",
    "### and should probably be treated only as a temporary solution"
   ]
  },
  {
   "cell_type": "code",
   "execution_count": null,
   "metadata": {},
   "outputs": [],
   "source": [
    "#limit datasets to Brittany based on Insee ID. Note: this will remove entries with missing or malformed ids,\n",
    "#and should probably be treated only as a temporary solution\n",
    "cidx = c(which(startsWith(as.character(cassini[['INSEE.ID']]), \"44\")),\n",
    "         which(startsWith(as.character(cassini[['INSEE.ID']]), \"35\")),\n",
    "          which(startsWith(as.character(cassini[['INSEE.ID']]), \"22\")),\n",
    "          which(startsWith(as.character(cassini[['INSEE.ID']]), \"29\")),\n",
    "          which(startsWith(as.character(cassini[['INSEE.ID']]), \"56\")))\n",
    "\n",
    "midx = c(which(startsWith(as.character(map[['INSEE.ID']]), \"44\")),\n",
    "         which(startsWith(as.character(map[['INSEE.ID']]), \"35\")),\n",
    "          which(startsWith(as.character(map[['INSEE.ID']]), \"22\")),\n",
    "          which(startsWith(as.character(map[['INSEE.ID']]), \"29\")),\n",
    "          which(startsWith(as.character(map[['INSEE.ID']]), \"56\")))\n",
    "\n",
    "iidx = c(which(startsWith(as.character(insee[['INSEE.ID']]), \"44\")),\n",
    "         which(startsWith(as.character(insee[['INSEE.ID']]), \"35\")),\n",
    "          which(startsWith(as.character(insee[['INSEE.ID']]), \"22\")),\n",
    "          which(startsWith(as.character(insee[['INSEE.ID']]), \"29\")),\n",
    "          which(startsWith(as.character(insee[['INSEE.ID']]), \"56\")))\n",
    "\n",
    "# oidx = c(which(startsWith(as.character(ogee[['INSEE.ID']]), \"44\")),\n",
    "#          which(startsWith(as.character(ogee[['INSEE.ID']]), \"35\")),\n",
    "#           which(startsWith(as.character(ogee[['INSEE.ID']]), \"22\")),\n",
    "#           which(startsWith(as.character(ogee[['INSEE.ID']]), \"29\")),\n",
    "#           which(startsWith(as.character(ogee[['INSEE.ID']]), \"56\")))\n",
    "\n",
    "cassini = cassini[cidx,]\n",
    "map = map[midx,]\n",
    "insee = insee[iidx,]\n",
    "# ogee = ogee[iidx,]"
   ]
  },
  {
   "cell_type": "markdown",
   "metadata": {},
   "source": [
    "## Merge based on Insee ID and clean name (for when no ID is provided)"
   ]
  },
  {
   "cell_type": "code",
   "execution_count": null,
   "metadata": {},
   "outputs": [],
   "source": [
    "outer_1 = merge(ogee, insee, by = c('INSEE.ID', 'CLEAN_NAME'), all = TRUE, suffixes = c('.ogee', '.insee'))\n",
    "outer_2 = merge(outer_1, map, c('INSEE.ID', 'CLEAN_NAME'), all = TRUE, suffixes = c('.outer1', '.map'))\n",
    "outer_3 = merge(outer_2, cassini, c('INSEE.ID', 'CLEAN_NAME'), all = TRUE, suffixes = c('.outer2', '.cassini'))\n",
    "\n",
    "#fix check values\n",
    "outer_3['INSEE_CHECK'][which(is.na(outer_3['INSEE_CHECK'])),] = FALSE\n",
    "outer_3['OGEE_CHECK'][which(is.na(outer_3['OGEE_CHECK'])),] = FALSE\n",
    "outer_3['MAP_CHECK'][which(is.na(outer_3['MAP_CHECK'])),] = FALSE\n",
    "outer_3['CASSINI_CHECK'][which(is.na(outer_3['CASSINI_CHECK'])),] = FALSE"
   ]
  },
  {
   "cell_type": "markdown",
   "metadata": {},
   "source": [
    "### Generate a venn diagram (TODO: Other plots)"
   ]
  },
  {
   "cell_type": "code",
   "execution_count": null,
   "metadata": {},
   "outputs": [],
   "source": [
    "m <- as.matrix(data.frame(C1=outer_3['INSEE_CHECK'],C2=outer_3['MAP_CHECK'],\n",
    "                          C3=outer_3['CASSINI_CHECK'],C4=outer_3['OGEE_CHECK']),\n",
    "               labels = c('A', 'B', 'C', 'D'))\n",
    "v = venneuler(m)\n",
    "v$labels = c('cassini', 'ogee', 'insee', 'map')\n",
    "plot(v)"
   ]
  },
  {
   "cell_type": "code",
   "execution_count": null,
   "metadata": {},
   "outputs": [],
   "source": [
    "conly = outer_3[which(outer_3['OGEE_CHECK'] == FALSE & outer_3['INSEE_CHECK'] == FALSE & outer_3['MAP_CHECK'] == FALSE),]\n",
    "monly = outer_3[which(outer_3['OGEE_CHECK'] == FALSE & outer_3['INSEE_CHECK'] == FALSE & outer_3['CASSINI_CHECK'] == FALSE),]\n",
    "ionly = outer_3[which(outer_3['OGEE_CHECK'] == FALSE & outer_3['MAP_CHECK'] == FALSE & outer_3['CASSINI_CHECK'] == FALSE),]\n",
    "oonly = outer_3[which(outer_3['CASSINI_CHECK'] == FALSE & outer_3['INSEE_CHECK'] == FALSE & outer_3['MAP_CHECK'] == FALSE),]\n",
    "\n",
    "write.csv(conly, 'cassini_only.csv')\n",
    "write.csv(monly, 'map_only.csv')\n",
    "write.csv(ionly, 'insee_only.csv')\n",
    "write.csv(oonly, 'ogee_only.csv')"
   ]
  },
  {
   "cell_type": "markdown",
   "metadata": {},
   "source": [
    "# Section 2: Road Questions"
   ]
  },
  {
   "cell_type": "markdown",
   "metadata": {},
   "source": [
    "### NOTE: The \"BN Ge DD 5548 (3) Saint Brieuc\" sheet currently lacks normalized place name, so the processing is currently done on map.csv instead. Uncomment the code in the first box and remove the read.csv to swap to the google sheet. In addition, you will have to remove 'INSEE.ID' from the conditions for the first merge as the sheet does not contain IDs, unlike map.csv. "
   ]
  },
  {
   "cell_type": "markdown",
   "metadata": {},
   "source": [
    "## Q1: What is the average distance of a village from a major road? \n",
    "### TODO Q2: Are there particular concentrations of villages with road construction (corvée) assignments that are further than 7 kilometers from a road, or are these randomly distributed across the province? Potentially averaging assignment distances by department, or other clusters TBD.\n",
    "## Q3: Is there any correlation between distance from the city of Rennes and the length of villages’ road construction assignments?\n",
    "## Q4: How do population proxies (the “communiants” metric from the Ogée data) relate to road construction assignment lengths, and is there regional variation in this? E.g. if population is very small and assignment length is very large (or the opposite), are there patterns for where this happens."
   ]
  },
  {
   "cell_type": "code",
   "execution_count": null,
   "metadata": {},
   "outputs": [],
   "source": [
    "# url2 = 'https://docs.google.com/spreadsheets/d/1kt5GRQPTy2FBSmo27kZkxclzMNZ3T3MFbpRtkuc2cQ4'\n",
    "\n",
    "# ## identify this folder on Drive\n",
    "# ## may prompt you to authorize\n",
    "# ss2 = drive_get(as_id(url2))\n",
    "\n",
    "# ## may prompt you to authorize\n",
    "# map2 = as.data.frame(read_sheet(ss2, sheet = \"BN Ge DD 5548 (3) Saint Brieuc\"))\n",
    "# names(map2)[which(names(map2) == 'normalized place name')] = 'normalized.place.name' #fix column name\n",
    "\n",
    "map2 = read.csv(\"map.csv\")\n"
   ]
  },
  {
   "cell_type": "code",
   "execution_count": null,
   "metadata": {},
   "outputs": [],
   "source": [
    "#replace accented characters\n",
    "rep = 'aeecaeiouueiuAEECAEIOUUEIU'\n",
    "orig = 'àèéçâêîôûùëïüÀÈÉÇÂÊÎÔÛÙËÏÜ'\n",
    "\n",
    "map2[] <- lapply(map2, chartr, old=orig, new=rep)\n",
    "map2[] <- lapply(map2, gsub, pattern='Œ', replacement='OE')\n",
    "map2[] <- lapply(map2, gsub, pattern='œ', replacement='oe')\n",
    "\n",
    "ogee2[] <- lapply(ogee2, chartr, old=orig, new=rep)\n",
    "ogee2[] <- lapply(ogee2, gsub, pattern='Œ', replacement='OE')\n",
    "ogee2[] <- lapply(ogee2, gsub, pattern='œ', replacement='oe')\n",
    "\n",
    "#add CLEAN_NAME to match with OGEE\n",
    "nom <- map2$normalized.place.name\n",
    "nom <- toupper(nom)\n",
    "map2$CLEAN_NAME <- nom\n",
    "\n",
    "#regenerate ogee with needed data\n",
    "nom <- ogee2$'Ogée 1778 entry'\n",
    "nom <- toupper(nom)\n",
    "ogee2$CLEAN_NAME <- nom\n",
    "ogee2[which(is.na(ogee2[,'CLEAN_NAME'])), 'CLEAN_NAME'] = ogee2[which(is.na(ogee2[,'CLEAN_NAME'])), 'NOM']\n",
    "\n",
    "#enable for a smaller merge, disable to keep all extra metrics\n",
    "# ogee2_keeps <- c('INSEE.ID', 'CLEAN_NAME', 'distance from Rennes (lieues)', 'communiants')\n",
    "# ogee2 <- ogee2[ogee2_keeps]\n",
    "\n",
    "#left merge, preserving all rows from map\n",
    "left_1 = merge(map2, ogee2, by = c('CLEAN_NAME', 'INSEE.ID'), all.x = TRUE)\n",
    "left_2 = merge(left_1, insee, by = c('INSEE.ID', 'CLEAN_NAME'), all.x = TRUE)\n",
    "\n",
    "#remove excess columns\n",
    "drops = c('INSEE_CHECK', 'OGEE_CHECK')\n",
    "left_2 <- left_2[ , !(names(left_2) %in% drops)]"
   ]
  },
  {
   "cell_type": "code",
   "execution_count": null,
   "metadata": {},
   "outputs": [],
   "source": [
    "#import shapefile, transform to WGS84\n",
    "road_dat = shapefile(\"rennes_corvee_true.shp\")\n",
    "road_dat = spTransform(road_dat, CRS(\"+proj=longlat +datum=WGS84\"))"
   ]
  },
  {
   "cell_type": "code",
   "execution_count": null,
   "metadata": {},
   "outputs": [],
   "source": [
    "#storage for distance from road, decimal latitude, decimal longitude, point on road matched to\n",
    "road_dist = double()\n",
    "latdec = numeric()\n",
    "longdec = numeric()\n",
    "closept = character()\n",
    "\n",
    "\n",
    "for(i in 1:nrow(left_2)){\n",
    "    if(is.na(left_2$long[i]) | is.na(left_2$lat[i])){\n",
    "        road_dist[i] = NA\n",
    "        latdec[i] = NA\n",
    "        longdec[i] =- NA\n",
    "        next\n",
    "    }\n",
    "    lat = left_2$lat[i] #get lat and long\n",
    "    long = left_2$long[i]\n",
    "    \n",
    "    #convert to format for conv_unit\n",
    "    lat = gsub(' ', '', lat)\n",
    "    long = gsub(' ', '', long)\n",
    "    \n",
    "    lat = gsub('d', ' ', lat)\n",
    "    long = gsub('d', ' ', long)\n",
    "    \n",
    "    lat = gsub('\"', '', lat)\n",
    "    long = gsub('\"', '', long)\n",
    "    \n",
    "    lat = gsub(\"'\", '.', lat)\n",
    "    long = gsub(\"'\", '.', long)\n",
    "    \n",
    "    lat = gsub(\"N\", \"\", lat)\n",
    "    long = gsub(\"W\", \"\", long)\n",
    "    \n",
    "    #convert from DMS to decimal\n",
    "    lat = as.numeric(conv_unit(lat, from = 'deg_dec_min', to = 'dec_deg'))\n",
    "    long = as.numeric(paste('-', conv_unit(long, from = 'deg_dec_min', to = 'dec_deg'), sep = ''))\n",
    "    \n",
    "    #make point, find nearest point on any road\n",
    "    pt = matrix(c(long, lat),nrow=1,ncol=2)\n",
    "    pt = SpatialPoints(pt)\n",
    "    proj4string(pt) = proj4string(road_dat)\n",
    "    pts = gNearestPoints(pt, road_dat)\n",
    "    \n",
    "    #get matched point on road\n",
    "    if(lat == ymax(pts)){\n",
    "        closelat = ymin(pts)\n",
    "    } else{\n",
    "        closelat = ymax(pts)\n",
    "    }\n",
    "    if(long == xmax(pts)){\n",
    "        closelong = xmin(pts)\n",
    "    } else{\n",
    "        closelong = xmax(pts)\n",
    "    }\n",
    "    \n",
    "    #store resulting points and distance in meters using Vincenty ellipsoid method\n",
    "    closept[i] = paste(closelat, closelong, sep = ',')\n",
    "    road_dist[i] = distVincentyEllipsoid(c(xmin(pts), ymin(pts)), c(xmax(pts), ymax(pts)))\n",
    "    latdec[i] = lat\n",
    "    longdec[i] = long\n",
    "}"
   ]
  },
  {
   "cell_type": "code",
   "execution_count": null,
   "metadata": {},
   "outputs": [],
   "source": [
    "#there is a way to calculate which line segment (of 21) is closest, or instead calculate distance to a specific segment\n",
    "#unfortunately, I've lost that code. It should be possible with the data structures already provided. "
   ]
  },
  {
   "cell_type": "code",
   "execution_count": null,
   "metadata": {},
   "outputs": [],
   "source": [
    "# save all metrics to csv\n",
    "left_2['closest_road_latlong'] = closept\n",
    "left_2['road_dist_m'] = road_dist\n",
    "left_2['lat_dec'] = latdec\n",
    "left_2['long_dec'] = longdec\n",
    "\n",
    "write.csv(left_2, 'map_ogee_insee_left.csv')"
   ]
  },
  {
   "cell_type": "markdown",
   "metadata": {},
   "source": [
    "## Q1 - mean distance of village from major road (meters)"
   ]
  },
  {
   "cell_type": "code",
   "execution_count": null,
   "metadata": {
    "scrolled": true
   },
   "outputs": [],
   "source": [
    "mean(road_dist)"
   ]
  },
  {
   "cell_type": "markdown",
   "metadata": {},
   "source": [
    "## Q3 - Is there any correlation between distance from the city of Rennes and the length of villages’ road construction assignments?"
   ]
  },
  {
   "cell_type": "code",
   "execution_count": null,
   "metadata": {},
   "outputs": [],
   "source": [
    "#note - values will not exist where locations were not matched and no distance was generated\n",
    "#also will generate incorrect results for malformatted distances from Rennes, as it just converts\n",
    "#the first number found\n",
    "assignments = as.numeric(left_2$assignment.distance..toises.)\n",
    "distances = as.numeric(gsub(\"([0-9]+).*$\", \"\\\\1\", left_2[['distance from Rennes (lieues)']]))\n",
    "plot(distances, assignments, xlab = \"Distance from Rennes (lieues)\", ylab = \"Assignment Distance (toises)\")"
   ]
  },
  {
   "cell_type": "markdown",
   "metadata": {},
   "source": [
    "## Q4 - Population proxies vs assignment lengths"
   ]
  },
  {
   "cell_type": "code",
   "execution_count": null,
   "metadata": {},
   "outputs": [],
   "source": [
    "#note - values will not exist where locations were not matched and no distance was generated.\n",
    "#current plot bounds are to exclude an outlier with 260000 communiants®\n",
    "communiants = left_2$communiants\n",
    "plot(communiants, assignments, xlab = \"Communiants\", ylab = \"Assignment Distance (toises)\", \n",
    "     xlim=c(0,5000), ylim=c(0,8000))"
   ]
  },
  {
   "cell_type": "code",
   "execution_count": null,
   "metadata": {},
   "outputs": [],
   "source": [
    "# plot the shapefile to make sure it works\n",
    "# ggplot(road_dat, aes(x=long, y=lat, group=group),) + \n",
    "#   geom_path() +\n",
    "#   theme_classic()"
   ]
  },
  {
   "cell_type": "code",
   "execution_count": null,
   "metadata": {},
   "outputs": [],
   "source": []
  }
 ],
 "metadata": {
  "kernelspec": {
   "display_name": "R",
   "language": "R",
   "name": "ir"
  },
  "language_info": {
   "codemirror_mode": "r",
   "file_extension": ".r",
   "mimetype": "text/x-r-source",
   "name": "R",
   "pygments_lexer": "r",
   "version": "3.6.1"
  }
 },
 "nbformat": 4,
 "nbformat_minor": 2
}
